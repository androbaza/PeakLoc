{
 "cells": [
  {
   "cell_type": "code",
   "execution_count": 1,
   "metadata": {},
   "outputs": [],
   "source": [
    "from localization_scripts.imports import *"
   ]
  },
  {
   "cell_type": "code",
   "execution_count": null,
   "metadata": {},
   "outputs": [],
   "source": [
    "filename = '/home/smlm-workstation/event-smlm/our_ev_smlm_recordings/MT_5May_S2_reduced_bias_580sec/MT_5May_S2_reduced_bias_580sec.raw'\n",
    "if os.path.basename(filename)[-4:] == \".raw\":\n",
    "    events = raw_events_to_array(filename).astype(\n",
    "        [(\"x\", \"uint16\"), (\"y\", \"uint16\"), (\"p\", \"byte\"), (\"t\", \"uint64\")]\n",
    "    )\n",
    "\n",
    "slice = events[(events[\"t\"] < 50e6)]"
   ]
  }
 ],
 "metadata": {
  "kernelspec": {
   "display_name": "mvis",
   "language": "python",
   "name": "python3"
  },
  "language_info": {
   "codemirror_mode": {
    "name": "ipython",
    "version": 3
   },
   "file_extension": ".py",
   "mimetype": "text/x-python",
   "name": "python",
   "nbconvert_exporter": "python",
   "pygments_lexer": "ipython3",
   "version": "3.10.11"
  },
  "orig_nbformat": 4
 },
 "nbformat": 4,
 "nbformat_minor": 2
}

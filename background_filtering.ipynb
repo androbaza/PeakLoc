{
 "cells": [
  {
   "cell_type": "code",
   "execution_count": null,
   "metadata": {},
   "outputs": [],
   "source": [
    "from localization_scripts.imports import *\n",
    "%load_ext autoreload\n",
    "%autoreload 2"
   ]
  },
  {
   "cell_type": "code",
   "execution_count": null,
   "metadata": {},
   "outputs": [],
   "source": [
    "filename = '/home/smlm-workstation/event-smlm/our_ev_smlm_recordings/MT_5May_S2_reduced_bias_580sec/MT_5May_S2_reduced_bias_580sec.raw'\n",
    "if os.path.basename(filename)[-4:] == \".raw\":\n",
    "    events = raw_events_to_array(filename).astype(\n",
    "        [(\"x\", \"uint16\"), (\"y\", \"uint16\"), (\"p\", \"byte\"), (\"t\", \"uint64\")]\n",
    "    )\n",
    "\n",
    "slice = events[(events[\"t\"] < 50e6)]"
   ]
  },
  {
   "cell_type": "code",
   "execution_count": null,
   "metadata": {},
   "outputs": [
    {
     "name": "stdout",
     "output_type": "stream",
     "text": [
      "Analyzing the data using 24 cores... Events go brrrrrrrrrrrr!\n",
      "Converting events to dictionaries... Elapsed time: 0.04 seconds\n"
     ]
    },
    {
     "data": {
      "text/plain": [
       "509"
      ]
     },
     "metadata": {},
     "output_type": "display_data"
    }
   ],
   "source": [
    "# from localization_scripts.event_array_processing import array_to_polarity_map\n",
    "NUM_CORES = multiprocessing.cpu_count()\n",
    "\n",
    "\"\"\"PROMINENCE is the prominence of the peaks in the convolved signals.\n",
    "Smaller value detects more peaks, increasing the evaluation time.\"\"\"\n",
    "PROMINENCE = 18\n",
    "\n",
    "\"\"\"DATASEET_FWHM is the FWHM of the PSF in the dataset in pixels.\"\"\"\n",
    "DATASEET_FWHM = 6\n",
    "\n",
    "\"\"\"PEAK_TIME_THRESHOLD is the maximum time difference between two peaks in order to be considered as the same peak.\"\"\"\n",
    "PEAK_TIME_THRESHOLD = 40e3\n",
    "\n",
    "\"\"\"PEAK_NEIGHBORS is the number of neighboring pixels to be considered when filtering same peaks.\"\"\"\n",
    "PEAK_NEIGHBORS = 7\n",
    "\n",
    "\"\"\"ROI_RADIUS is the radius of the generated ROI in pixels.\"\"\"\n",
    "ROI_RADIUS = 8\n",
    "\n",
    "events = slice\n",
    "start_time = time.time()\n",
    "\n",
    "# Get the minimum and maximum x and y coordinates\n",
    "min_x = events[\"x\"].min()\n",
    "min_y = events[\"y\"].min()\n",
    "max_x = events[\"x\"].max()\n",
    "max_y = events[\"y\"].max()\n",
    "\n",
    "# Create coordinate lists\n",
    "y_coords, x_coords = [min_y, max_y], [min_x, max_x]\n",
    "coords = generate_coord_lists(y_coords[0], y_coords[1], x_coords[0], x_coords[1])\n",
    "\n",
    "# Generate dictionaries and calculate max length\n",
    "print(f\"Analyzing the data using {NUM_CORES} cores... Events go brrrrrrrrrrrr!\")\n",
    "print(\n",
    "    f\"Converting events to dictionaries... Elapsed time: {time.time() - start_time:.2f} seconds\"\n",
    ")\n",
    "dict_events, max_len = array_to_polarity_map(events, coords)\n",
    "# events_t_p_dict = array_to_time_map(events)\n",
    "# del events\n",
    "gc.collect()"
   ]
  },
  {
   "cell_type": "code",
   "execution_count": null,
   "metadata": {},
   "outputs": [],
   "source": [
    "import numpy as np\n",
    "\n",
    "def find_outliers(data):\n",
    "    q1 = np.percentile(data, 25)\n",
    "    q3 = np.percentile(data, 75)\n",
    "    iqr = q3 - q1\n",
    "    lower_bound = q1 - (1.5 * iqr)\n",
    "    upper_bound = q3 + (1.5 * iqr)\n",
    "    outliers = [x for x in data if x < lower_bound or x > upper_bound]\n",
    "    return outliers\n",
    "\n"
   ]
  },
  {
   "cell_type": "code",
   "execution_count": null,
   "metadata": {},
   "outputs": [],
   "source": [
    "values, counts = np.unique(events[['x','y']], return_counts=True)\n"
   ]
  },
  {
   "cell_type": "code",
   "execution_count": null,
   "metadata": {},
   "outputs": [],
   "source": [
    "lengths = [dict_events[key][2][0] for key in dict_events.keys()]"
   ]
  }
 ],
 "metadata": {
  "language_info": {
   "name": "python"
  },
  "orig_nbformat": 4
 },
 "nbformat": 4,
 "nbformat_minor": 2
}
